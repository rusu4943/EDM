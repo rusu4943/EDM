{
 "cells": [
  {
   "cell_type": "code",
   "execution_count": 1,
   "id": "66c45467-de09-4fe7-bfb4-207d005aee89",
   "metadata": {},
   "outputs": [
    {
     "data": {
      "text/plain": [
       "'/home/rs37890/.conda/envs/UDA/bin/python'"
      ]
     },
     "execution_count": 1,
     "metadata": {},
     "output_type": "execute_result"
    }
   ],
   "source": [
    "import sys\n",
    "sys.executable"
   ]
  },
  {
   "cell_type": "code",
   "execution_count": 2,
   "id": "3015e588",
   "metadata": {},
   "outputs": [],
   "source": [
    "import os\n",
    "import re\n",
    "import sys\n",
    "import time\n",
    "import copy\n",
    "import h5py\n",
    "import random\n",
    "import logging\n",
    "import argparse\n",
    "import numpy as np\n",
    "import pandas as pd\n",
    "from PIL import Image"
   ]
  },
  {
   "cell_type": "code",
   "execution_count": 3,
   "id": "be52741e-9fd9-4599-b1e8-3c3cfb6aaefa",
   "metadata": {},
   "outputs": [],
   "source": [
    "import torch\n",
    "import torch.nn as nn"
   ]
  },
  {
   "cell_type": "code",
   "execution_count": 4,
   "id": "0a6bf624-a14b-49d9-a7b7-9b52d8c501e8",
   "metadata": {},
   "outputs": [],
   "source": [
    "from torchvision import *\n",
    "import torchvision.models"
   ]
  },
  {
   "cell_type": "code",
   "execution_count": 5,
   "id": "a72d465a-7c44-4f5e-afd4-44d9ddd41c3c",
   "metadata": {},
   "outputs": [],
   "source": [
    "from sklearn.metrics import roc_auc_score\n",
    "from sklearn.metrics import confusion_matrix"
   ]
  },
  {
   "cell_type": "code",
   "execution_count": 6,
   "id": "27b07a08-133e-49bf-8e00-60161a9d3b65",
   "metadata": {},
   "outputs": [],
   "source": [
    "import seaborn as sns\n",
    "import matplotlib.pyplot as plt"
   ]
  },
  {
   "cell_type": "markdown",
   "id": "1ac70fc3",
   "metadata": {},
   "source": [
    "# args"
   ]
  },
  {
   "cell_type": "code",
   "execution_count": 7,
   "id": "8e29b6d5",
   "metadata": {},
   "outputs": [],
   "source": [
    "parser = argparse.ArgumentParser()\n",
    "\n",
    "parser.add_argument('--report-freq', type=int, default=1, help='logging frequency')\n",
    "parser.add_argument('--tune-mode', type=str, default='fine-tune', choices=['fine-tune', 'feature-extract'], help='tuning mode' )\n",
    "parser.add_argument('--backbone', type=str, default='resnet50', choices=['resnet50', 'vgg19', 'inception_v3'], \n",
    "                    help='backbone architecture' )\n",
    "parser.add_argument('--cls-type', type=str, default='single', choices=['single', \n",
    "                   'double', 'double-bn', 'double-dropout'], help='classifier architecture' )\n",
    "parser.add_argument('--hidden-dim', type=int, default=512, help='hidden dimension of classifier' )\n",
    "parser.add_argument('--record-root-dir', type=str, default='./record-data', help='record data root dir' )\n",
    "parser.add_argument('--exp', type=str, default='default_exp', help='name of experiment' )\n",
    "parser.add_argument('--batch-size', type=int, default=8, help='batch size' )\n",
    "parser.add_argument('--num-workers', type=int, default=0, help='number of processes working on cpu.')\n",
    "parser.add_argument('--num-classes', type=int, default=5, help='number of classes')\n",
    "parser.add_argument('--num-epochs', type=int, default=20,  help='number of epochs.')\n",
    "parser.add_argument( '--num-steps', type=int, default=-1, help='number of steps per epoch. '+ '-1 means use entire data' )\n",
    "parser.add_argument('--learn-rate', type=float, default=1e-3, help='learning rate for gradient descent')\n",
    "parser.add_argument('--weight-decay', type=float, default=1e-3, help='weight decay for optimization')\n",
    "parser.add_argument('--resume', action='store_true', help='resume experiment <exp> from last checkpoint' )\n",
    "parser.add_argument('--input-dir', type=str, default= r'../h5py/', help='data root dir' )\n",
    "parser.add_argument('--save-name', type=str, default='model.pt', help='saved model name' )\n",
    "\n",
    "args, unknown =  parser.parse_known_args()"
   ]
  },
  {
   "cell_type": "code",
   "execution_count": 8,
   "id": "c10d322d-5c73-4274-a217-ac9b16d9db84",
   "metadata": {},
   "outputs": [],
   "source": [
    "# device\n",
    "DEVICE = 'cuda:0' if torch.cuda.is_available() else 'cpu'\n",
    "args.device = DEVICE\n",
    "args.gpu_ids = [0]"
   ]
  },
  {
   "cell_type": "code",
   "execution_count": 9,
   "id": "fdb4fa27",
   "metadata": {},
   "outputs": [],
   "source": [
    "args.num_epochs = 1\n",
    "args.learn_rate = 1e-3\n",
    "args.weight_decay = 1e-3 \n",
    "args.batch_size = 120\n",
    "args.num_classes = 1\n",
    "args.seed = 1111"
   ]
  },
  {
   "cell_type": "code",
   "execution_count": 10,
   "id": "4de25078-5c6e-40a9-a0b8-7b6ce388ca32",
   "metadata": {},
   "outputs": [],
   "source": [
    "args.root = '/scratch/rs37890/CARC/Explainable-NN-model'\n",
    "args.sub_root = '/Fold1_Bio-Unet-stage1'\n",
    "args.checkpoint_root = '/F(CLR) + F(Res) + F(Seg)'\n",
    "args.shallow_network_folder = '/Mel-detection_effect_of_different_lr/1e-3'\n",
    "\n",
    "args.csv_h5_dir = args.root + '/Data'\n",
    "\n",
    "args.record_dir = args.root  + args.sub_root + args.shallow_network_folder + '/record_dir'\n",
    "args.save_name = 'Resnet50'"
   ]
  },
  {
   "cell_type": "markdown",
   "id": "70305ce3-5aef-471a-b559-b5d3ec7f46ea",
   "metadata": {},
   "source": [
    "# dataset"
   ]
  },
  {
   "cell_type": "code",
   "execution_count": 11,
   "id": "03e245dc-4399-42ad-8e2a-dfa3b7dff919",
   "metadata": {},
   "outputs": [],
   "source": [
    "def get_transform(split):\n",
    "    \n",
    "    img_size = ( 512, 512 )\n",
    "    Normal_transform = transforms.Compose([ transforms.Resize( img_size ),\n",
    "                                            transforms.ToTensor(),\n",
    "                                            transforms.Normalize([0.4914, 0.4822, 0.4465], [0.2023, 0.1994, 0.2010])],\n",
    "                                         )\n",
    "\n",
    "    return Normal_transform"
   ]
  },
  {
   "cell_type": "code",
   "execution_count": 12,
   "id": "9b0d174f-4f13-4f7a-acd2-a7fe64829b4a",
   "metadata": {},
   "outputs": [],
   "source": [
    "class SkinDataset( torch.utils.data.Dataset ):\n",
    "\n",
    "    def __init__( self, h5_file_path, transform, split, args):\n",
    "        self.h5_file_path = h5_file_path\n",
    "        self.h5_file = None\n",
    "        self.transform = transform\n",
    "        self.split = split\n",
    "        self.img_id_to_h5idx = self.build_img_id_to_h5idx()\n",
    "        self.num_imgs = self.get_num_imgs() \n",
    "\n",
    "        self.args = args\n",
    "\n",
    "        self.ATTR_TO_INDEX = { 'globules': 0,\n",
    "                               'milia_like_cyst': 1,\n",
    "                               'negative_network': 2,\n",
    "                               'pigment_network': 3,\n",
    "                               'streaks': 4,\n",
    "                             }\n",
    "\n",
    "    def get_num_imgs( self ):\n",
    "        with h5py.File( self.h5_file_path, 'r' ) as f:\n",
    "            return len( f['image_ids'] )\n",
    "\n",
    "    def build_img_id_to_h5idx( self ):\n",
    "        with h5py.File( self.h5_file_path, 'r' ) as f:\n",
    "            \n",
    "            img_ids = f['image_ids']\n",
    "            img_id_to_h5idx = { img_id : idx for idx, img_id in enumerate( img_ids ) }\n",
    "            \n",
    "            return img_id_to_h5idx\n",
    "\n",
    "    def __len__( self ):\n",
    "        return self.get_num_imgs()\n",
    "\n",
    "    def __getitem__( self, idx ):\n",
    "        # import pdb; pdb.set_trace()\n",
    "        if not self.h5_file:\n",
    "            self.h5_file = h5py.File( self.h5_file_path, 'r' )\n",
    "            \n",
    "        img_id = self.h5_file['image_ids'][idx]\n",
    "        img = self.h5_file['images'][idx]\n",
    "        img = img.transpose([1, 2, 0])\n",
    "\n",
    "        assert img.shape == (512, 512, 3)\n",
    "\n",
    "        img = Image.fromarray( np.uint8(img) )\n",
    "        \n",
    "        if self.split == 'unsup':\n",
    "            img1 = self.transform( img )\n",
    "            img2 = self.transform( img )\n",
    "            return img_id, img1, img2\n",
    "        \n",
    "        else:\n",
    "            masks = self.h5_file['masks'][idx]\n",
    "            labels = self.h5_file['labels'][idx].astype(np.float64)\n",
    "            img = self.transform( img )\n",
    "\n",
    "            # labels[0] globus\n",
    "            # labels[1] milia_like_cyst\n",
    "            # labels[2] negative\n",
    "            # labels[3] pigment\n",
    "            # labels[4] streaks\n",
    "            # labels[5] melanoma\n",
    "            \n",
    "            index = 5\n",
    "\n",
    "            assert masks.shape == (5, 512, 512)\n",
    "            assert np.expand_dims(labels[index], axis=0).shape == (1,)\n",
    "            \n",
    "            return img_id, img, np.expand_dims(labels[index], axis=0), masks"
   ]
  },
  {
   "cell_type": "code",
   "execution_count": 13,
   "id": "98dd44f6-39cf-4fae-9938-948a664b4393",
   "metadata": {},
   "outputs": [],
   "source": [
    "def get_dataloader( args ):\n",
    "    \n",
    "    dataloader = {}\n",
    "    splits = [ 'train', 'val' ]\n",
    "    \n",
    "    for split in splits:\n",
    "        \n",
    "        h5_file_path = os.path.join( args.csv_h5_dir, f'{split}.h5' )\n",
    "        transform = get_transform(split)\n",
    "\n",
    "        bsz = args.batch_size\n",
    "        \n",
    "        dataset = SkinDataset( h5_file_path, transform, split, args)\n",
    "        loader = torch.utils.data.DataLoader( dataset = dataset,\n",
    "                                              batch_size = bsz,\n",
    "                                              shuffle = True if split != 'val' else False,\n",
    "                                              num_workers = args.num_workers,\n",
    "                                              drop_last = False,\n",
    "                                            )\n",
    "        \n",
    "        dataloader[ split ] = loader\n",
    "        \n",
    "    return dataloader"
   ]
  },
  {
   "cell_type": "markdown",
   "id": "e2a131d4",
   "metadata": {},
   "source": [
    "# Load model"
   ]
  },
  {
   "cell_type": "code",
   "execution_count": 14,
   "id": "2c0d2509",
   "metadata": {},
   "outputs": [],
   "source": [
    "class Model(nn.Module):\n",
    "    def __init__(self):\n",
    "        super().__init__()\n",
    "        self.base_model = torchvision.models.resnet50(pretrained=True)\n",
    "        self.base_layers = list(self.base_model.children())\n",
    "        \n",
    "        self.layer0 = nn.Sequential(*self.base_layers[:3])\n",
    "        self.layer1 = nn.Sequential(*self.base_layers[3:5]) # size=(N, 256, x.H/4, x.W/4)\n",
    "        self.layer2 = self.base_layers[5]  # size=(N, 512, x.H/8, x.W/8)\n",
    "        self.layer3 = self.base_layers[6]  # size=(N, 1024, x.H/16, x.W/16)\n",
    "        self.layer4 = self.base_layers[7]  # size=(N, 2048, x.H/32, x.W/32)\n",
    "        self.Avgpooling = nn.Sequential(self.base_layers[8])\n",
    "        \n",
    "        self.mlp = torch.nn.Sequential( torch.nn.Linear(2048,1), )# only one linear layer on top\n",
    "        \n",
    "    def forward(self, X):\n",
    "        layer0 = self.layer0(X)  # layer0:  torch.Size([1, 64, 256, 256])\n",
    "        layer1 = self.layer1(layer0) # layer1:  torch.Size([1, 256, 128, 128])\n",
    "        layer2 = self.layer2(layer1) # layer2:  torch.Size([1, 512, 64, 64])\n",
    "        layer3 = self.layer3(layer2) # layer3:  torch.Size([1, 1024, 32, 32])\n",
    "        layer4 = self.layer4(layer3) # layer4:  torch.Size([1, 2048, 16, 16])\n",
    "        out    = self.Avgpooling(layer4)\n",
    "        \n",
    "        out1 = torch.squeeze(out) \n",
    "        if X.size(0) == 1: # torch.Size([1, 2048, 1, 1]) => torch.Size([2048])\n",
    "            out1 = torch.unsqueeze(out1, 0) # torch.Size([1, 2048])\n",
    "        out = self.mlp(out1)\n",
    "        return out1, out"
   ]
  },
  {
   "cell_type": "markdown",
   "id": "646d246a",
   "metadata": {},
   "source": [
    "# Streaks"
   ]
  },
  {
   "cell_type": "code",
   "execution_count": 15,
   "id": "80648571",
   "metadata": {},
   "outputs": [
    {
     "name": "stderr",
     "output_type": "stream",
     "text": [
      "/home/rs37890/.conda/envs/UDA/lib/python3.9/site-packages/torchvision/models/_utils.py:208: UserWarning: The parameter 'pretrained' is deprecated since 0.13 and may be removed in the future, please use 'weights' instead.\n",
      "  warnings.warn(\n",
      "/home/rs37890/.conda/envs/UDA/lib/python3.9/site-packages/torchvision/models/_utils.py:223: UserWarning: Arguments other than a weight enum or `None` for 'weights' are deprecated since 0.13 and may be removed in the future. The current behavior is equivalent to passing `weights=ResNet50_Weights.IMAGENET1K_V1`. You can also use `weights=ResNet50_Weights.DEFAULT` to get the most up-to-date weights.\n",
      "  warnings.warn(msg)\n"
     ]
    }
   ],
   "source": [
    "net = Model()\n",
    "streaks_net = torch.nn.DataParallel(net)\n",
    "streaks_net = streaks_net.module.to( DEVICE )"
   ]
  },
  {
   "cell_type": "code",
   "execution_count": 16,
   "id": "60944f0d",
   "metadata": {},
   "outputs": [
    {
     "data": {
      "text/plain": [
       "'/scratch/rs37890/CARC/Explainable-NN-model/Fold1_Bio-Unet-stage1/F(CLR) + F(Res) + F(Seg)/streaks/record_dir/SIMCLR+Resnet50+Unet_best_model.pt'"
      ]
     },
     "execution_count": 16,
     "metadata": {},
     "output_type": "execute_result"
    }
   ],
   "source": [
    "#Model path\n",
    "Main_folder = args.root  + args.sub_root + args.checkpoint_root\n",
    "attribute = \"/streaks\"\n",
    "model_name = '/SIMCLR+Resnet50+Unet_model.pt'\n",
    "best_model_name = '/SIMCLR+Resnet50+Unet_best_model.pt'\n",
    "streaks_Model_path = Main_folder + attribute + '/record_dir' + best_model_name\n",
    "streaks_Model_path"
   ]
  },
  {
   "cell_type": "code",
   "execution_count": 17,
   "id": "daa857d9",
   "metadata": {},
   "outputs": [
    {
     "data": {
      "text/plain": [
       "<All keys matched successfully>"
      ]
     },
     "execution_count": 17,
     "metadata": {},
     "output_type": "execute_result"
    }
   ],
   "source": [
    "checkpoint = torch.load(streaks_Model_path)\n",
    "streaks_net.load_state_dict(checkpoint)"
   ]
  },
  {
   "cell_type": "markdown",
   "id": "f8856e32",
   "metadata": {},
   "source": [
    "# Pigment"
   ]
  },
  {
   "cell_type": "code",
   "execution_count": 18,
   "id": "01ab2cce",
   "metadata": {},
   "outputs": [],
   "source": [
    "net = Model()\n",
    "pigment_net = torch.nn.DataParallel(net)\n",
    "pigment_net = pigment_net.to( DEVICE )\n",
    "pigment_net = pigment_net.module"
   ]
  },
  {
   "cell_type": "code",
   "execution_count": 19,
   "id": "51671c48",
   "metadata": {},
   "outputs": [
    {
     "data": {
      "text/plain": [
       "'/scratch/rs37890/CARC/Explainable-NN-model/Fold1_Bio-Unet-stage1/F(CLR) + F(Res) + F(Seg)/pigment/record_dir/SIMCLR+Resnet50+Unet_best_model.pt'"
      ]
     },
     "execution_count": 19,
     "metadata": {},
     "output_type": "execute_result"
    }
   ],
   "source": [
    "#Model path\n",
    "Main_folder = args.root  + args.sub_root + args.checkpoint_root\n",
    "attribute = \"/pigment\"\n",
    "model_name = '/SIMCLR+Resnet50+Unet_model.pt'\n",
    "best_model_name = '/SIMCLR+Resnet50+Unet_best_model.pt'\n",
    "pigment_Model_path = Main_folder + attribute + '/record_dir' + best_model_name\n",
    "pigment_Model_path"
   ]
  },
  {
   "cell_type": "code",
   "execution_count": 20,
   "id": "b021c794",
   "metadata": {},
   "outputs": [
    {
     "data": {
      "text/plain": [
       "<All keys matched successfully>"
      ]
     },
     "execution_count": 20,
     "metadata": {},
     "output_type": "execute_result"
    }
   ],
   "source": [
    "checkpoint = torch.load(pigment_Model_path)\n",
    "pigment_net.load_state_dict(checkpoint)"
   ]
  },
  {
   "cell_type": "markdown",
   "id": "7cd69db3",
   "metadata": {},
   "source": [
    "# Negative"
   ]
  },
  {
   "cell_type": "code",
   "execution_count": 21,
   "id": "4de3486f",
   "metadata": {},
   "outputs": [],
   "source": [
    "net = Model()\n",
    "negative_net = torch.nn.DataParallel(net)\n",
    "negative_net = negative_net.to( DEVICE )\n",
    "negative_net = negative_net.module"
   ]
  },
  {
   "cell_type": "code",
   "execution_count": 22,
   "id": "705ddfa1",
   "metadata": {},
   "outputs": [
    {
     "data": {
      "text/plain": [
       "'/scratch/rs37890/CARC/Explainable-NN-model/Fold1_Bio-Unet-stage1/F(CLR) + F(Res) + F(Seg)/negative/record_dir/SIMCLR+Resnet50+Unet_best_model.pt'"
      ]
     },
     "execution_count": 22,
     "metadata": {},
     "output_type": "execute_result"
    }
   ],
   "source": [
    "#Model path\n",
    "Main_folder = args.root  + args.sub_root + args.checkpoint_root\n",
    "attribute = \"/negative\"\n",
    "model_name = '/SIMCLR+Resnet50+Unet_model.pt'\n",
    "best_model_name = '/SIMCLR+Resnet50+Unet_best_model.pt'\n",
    "negative_Model_path = Main_folder + attribute + '/record_dir' + best_model_name\n",
    "negative_Model_path"
   ]
  },
  {
   "cell_type": "code",
   "execution_count": 23,
   "id": "dd421b55",
   "metadata": {},
   "outputs": [
    {
     "data": {
      "text/plain": [
       "<All keys matched successfully>"
      ]
     },
     "execution_count": 23,
     "metadata": {},
     "output_type": "execute_result"
    }
   ],
   "source": [
    "checkpoint = torch.load(negative_Model_path)\n",
    "negative_net.load_state_dict(checkpoint)"
   ]
  },
  {
   "cell_type": "markdown",
   "id": "a1cca6c7",
   "metadata": {},
   "source": [
    "# Milia"
   ]
  },
  {
   "cell_type": "code",
   "execution_count": 24,
   "id": "d99d15d4",
   "metadata": {},
   "outputs": [],
   "source": [
    "net = Model()\n",
    "milia_net = torch.nn.DataParallel(net)\n",
    "milia_net = milia_net.to( DEVICE )\n",
    "milia_net = milia_net.module"
   ]
  },
  {
   "cell_type": "code",
   "execution_count": 25,
   "id": "0c1608f0-86f5-4e4b-b805-740092300a2b",
   "metadata": {},
   "outputs": [
    {
     "data": {
      "text/plain": [
       "'/scratch/rs37890/CARC/Explainable-NN-model/Fold1_Bio-Unet-stage1/F(CLR) + F(Res) + F(Seg)/milia_like_cyst/record_dir/SIMCLR+Resnet50+Unet_best_model.pt'"
      ]
     },
     "execution_count": 25,
     "metadata": {},
     "output_type": "execute_result"
    }
   ],
   "source": [
    "#Model path\n",
    "Main_folder = args.root  + args.sub_root + args.checkpoint_root\n",
    "attribute = \"/milia_like_cyst\"\n",
    "model_name = '/SIMCLR+Resnet50+Unet_model.pt'\n",
    "best_model_name = '/SIMCLR+Resnet50+Unet_best_model.pt'\n",
    "milia_like_cyst_Model_path = Main_folder + attribute + '/record_dir' + best_model_name\n",
    "milia_like_cyst_Model_path"
   ]
  },
  {
   "cell_type": "code",
   "execution_count": 26,
   "id": "f4a5c809",
   "metadata": {},
   "outputs": [
    {
     "data": {
      "text/plain": [
       "<All keys matched successfully>"
      ]
     },
     "execution_count": 26,
     "metadata": {},
     "output_type": "execute_result"
    }
   ],
   "source": [
    "checkpoint = torch.load(milia_like_cyst_Model_path)\n",
    "milia_net.load_state_dict(checkpoint)"
   ]
  },
  {
   "cell_type": "markdown",
   "id": "73e39b93",
   "metadata": {},
   "source": [
    "# Globules"
   ]
  },
  {
   "cell_type": "code",
   "execution_count": 27,
   "id": "47bdbd99",
   "metadata": {},
   "outputs": [],
   "source": [
    "net = Model()\n",
    "globules_net = torch.nn.DataParallel(net)\n",
    "globules_net = globules_net.to( DEVICE )\n",
    "globules_net = globules_net.module"
   ]
  },
  {
   "cell_type": "code",
   "execution_count": 28,
   "id": "9af56d15-0dc1-40ce-9a9f-85ec0adff53d",
   "metadata": {},
   "outputs": [
    {
     "data": {
      "text/plain": [
       "'/scratch/rs37890/CARC/Explainable-NN-model/Fold1_Bio-Unet-stage1/F(CLR) + F(Res) + F(Seg)/globules/record_dir/SIMCLR+Resnet50+Unet_best_model.pt'"
      ]
     },
     "execution_count": 28,
     "metadata": {},
     "output_type": "execute_result"
    }
   ],
   "source": [
    "#Model path\n",
    "Main_folder = args.root  + args.sub_root + args.checkpoint_root\n",
    "attribute = \"/globules\"\n",
    "model_name = '/SIMCLR+Resnet50+Unet_model.pt'\n",
    "best_model_name = '/SIMCLR+Resnet50+Unet_best_model.pt'\n",
    "globules_Model_path = Main_folder + attribute + '/record_dir' + best_model_name\n",
    "globules_Model_path"
   ]
  },
  {
   "cell_type": "code",
   "execution_count": 29,
   "id": "afe7d85d",
   "metadata": {},
   "outputs": [
    {
     "data": {
      "text/plain": [
       "<All keys matched successfully>"
      ]
     },
     "execution_count": 29,
     "metadata": {},
     "output_type": "execute_result"
    }
   ],
   "source": [
    "checkpoint = torch.load(globules_Model_path)\n",
    "globules_net.load_state_dict(checkpoint)"
   ]
  },
  {
   "cell_type": "markdown",
   "id": "95108b20",
   "metadata": {},
   "source": [
    "# softmax"
   ]
  },
  {
   "cell_type": "code",
   "execution_count": 30,
   "id": "ee8e2e88",
   "metadata": {},
   "outputs": [],
   "source": [
    "class LogisticRegression(torch.nn.Module): \n",
    "    def __init__(self, input_dim = 10240, output_dim = 1): \n",
    "        super(LogisticRegression, self).__init__() \n",
    "        #self.linear = torch.nn.Linear(input_dim, output_dim) \n",
    "        self.linear1 = torch.nn.Linear(input_dim, 2048) \n",
    "        self.linear2 = torch.nn.Linear(2048, 512) \n",
    "        self.linear3 = torch.nn.Linear(512, output_dim) \n",
    "        \n",
    "    def forward(self, x): \n",
    "        #outputs = torch.sigmoid(self.linear(x)) \n",
    "        output1 = self.linear1(x)\n",
    "        output2 = self.linear2(output1)\n",
    "        output3 = self.linear3(output2)\n",
    "        \n",
    "        return nn.Sigmoid()(output3).type(torch.float64)"
   ]
  },
  {
   "cell_type": "code",
   "execution_count": 31,
   "id": "3aed178a-50e4-47fb-a0e3-16b1775f40fb",
   "metadata": {},
   "outputs": [],
   "source": [
    "Logistic_model = LogisticRegression()"
   ]
  },
  {
   "cell_type": "code",
   "execution_count": 32,
   "id": "9c11eef1-39a5-4a84-93b2-f5eee8271975",
   "metadata": {},
   "outputs": [],
   "source": [
    "logistic_root = '/scratch/rs37890/CARC/Explainable-NN-model/Fold1_Bio-Unet-stage1/Mel-detection_effect_of_different_lr/1e-3/record_dir/'\n",
    "logistic_path = logistic_root + 'Resnet50_best.pt'"
   ]
  },
  {
   "cell_type": "code",
   "execution_count": 33,
   "id": "7398a82f-6b54-4a4c-bbaa-bda91e10d249",
   "metadata": {},
   "outputs": [
    {
     "data": {
      "text/plain": [
       "<All keys matched successfully>"
      ]
     },
     "execution_count": 33,
     "metadata": {},
     "output_type": "execute_result"
    }
   ],
   "source": [
    "checkpoint = torch.load(logistic_path)\n",
    "Logistic_model.load_state_dict(checkpoint)"
   ]
  },
  {
   "cell_type": "markdown",
   "id": "01318b69",
   "metadata": {},
   "source": [
    "# Trainer"
   ]
  },
  {
   "cell_type": "code",
   "execution_count": 34,
   "id": "b7aa538a-38e0-4b32-82fb-35b7e762d8b9",
   "metadata": {},
   "outputs": [],
   "source": [
    "class AverageMeter:\n",
    "    \"\"\"Computes and stores the average and current value.\"\"\"\n",
    "    def __init__(self):\n",
    "        self.reset()\n",
    "\n",
    "    def reset(self):\n",
    "        self.val = 0\n",
    "        self.avg = 0\n",
    "        self.sum = 0\n",
    "        self.count = 0\n",
    "\n",
    "    def update(self, val, n=1):\n",
    "        self.val = val\n",
    "        self.sum += val * n\n",
    "        self.count += n\n",
    "        self.avg = self.sum / self.count"
   ]
  },
  {
   "cell_type": "code",
   "execution_count": 35,
   "id": "483896a3-2e35-4842-b431-aed930cb68ca",
   "metadata": {},
   "outputs": [],
   "source": [
    "\n",
    "class Trainer:\n",
    "    def __init__(self, \n",
    "                 model, \n",
    "                 globules_net , milia_net, negative_net, pigment_net, streaks_net,\n",
    "                 dataloader, \n",
    "                 args,\n",
    "                ):\n",
    "        \n",
    "        self.model = model.to(args.device)\n",
    "        self.dataloader = dataloader\n",
    "        self.args = args\n",
    "        self.best_loss = np.inf\n",
    "        self.best_epoch = 0\n",
    "        self.best_model = None\n",
    "        self.current_epoch = 0\n",
    "\n",
    "        self.globules_net = globules_net.to(args.device)\n",
    "        self.milia_net = milia_net.to(args.device)\n",
    "        self.negative_net = negative_net.to(args.device)\n",
    "        self.pigment_net = pigment_net.to(args.device)\n",
    "        self.streaks_net = streaks_net.to(args.device)\n",
    "\n",
    "        # self.globules_net.eval()\n",
    "        # self.milia_net.eval()\n",
    "        # self.negative_net.eval()\n",
    "        # self.pigment_net.eval()\n",
    "        # self.streaks_net.eval()\n",
    "\n",
    "        self.criterion = nn.BCELoss()\n",
    "        self.optimizer = torch.optim.Adam(params=self.model.parameters(),\n",
    "                                          lr=self.args.learn_rate,\n",
    "                                          weight_decay=self.args.weight_decay)\n",
    "\n",
    "    def get_accuracy(self, pred, labels):\n",
    "        predicted_labels = (pred > 0.5).int()\n",
    "        correct_predictions = (predicted_labels == labels).sum().item()\n",
    "        total_predictions = labels.size(0)\n",
    "        accuracy = correct_predictions / total_predictions\n",
    "        return accuracy\n",
    "        \n",
    "    def concate_5120(self, imgs):\n",
    "        with torch.no_grad():\n",
    "            pred1, _ = self.globules_net(imgs)\n",
    "            pred2, _ = self.negative_net(imgs)\n",
    "            pred3, _ = self.milia_net(imgs)\n",
    "            pred4, _ = self.pigment_net(imgs)\n",
    "            pred5, _ = self.streaks_net(imgs)\n",
    "            return torch.cat((pred1, pred2, pred3, pred4, pred5), 1)\n",
    "\n",
    "    def train_or_val(self, mode='val'):\n",
    "        \n",
    "        assert mode in ['val'], \"Mode must be 'val'\"\n",
    "        dataloader = self.dataloader[mode]\n",
    "        num_steps = len(dataloader)\n",
    "        self.model.eval()\n",
    "\n",
    "        loss_meter = AverageMeter()\n",
    "        acc_meter = AverageMeter()\n",
    "        data_time_meter = AverageMeter()\n",
    "        batch_time_meter = AverageMeter()\n",
    "        all_preds = []\n",
    "        all_labels = []\n",
    "\n",
    "        start = time.time()\n",
    "        for batch_id, (img_ids, imgs, labels, masks) in enumerate(dataloader):\n",
    "            data_time = time.time() - start\n",
    "            if batch_id >= num_steps: break\n",
    "\n",
    "            imgs, labels = imgs.to(self.args.device), labels.to(self.args.device)\n",
    "            \n",
    "            concate_input = self.concate_5120(imgs)\n",
    "            pred = self.model(concate_input)\n",
    "\n",
    "            loss = self.criterion(pred, labels)\n",
    "\n",
    "            loss_meter.update(loss.item(), len(imgs))\n",
    "            acc = self.get_accuracy(pred.detach().cpu(), labels.cpu())\n",
    "            acc_meter.update(acc, len(imgs))\n",
    "            batch_time = time.time() - start\n",
    "\n",
    "            data_time_meter.update(data_time)\n",
    "            batch_time_meter.update(batch_time)\n",
    "            all_preds.append(pred.detach().cpu())\n",
    "            all_labels.append(labels.cpu())\n",
    "\n",
    "            print(mode.upper(), batch_id, num_steps, loss_meter.avg, acc_meter.avg, 0, data_time_meter.avg, batch_time_meter.avg)\n",
    "\n",
    "            start = time.time()\n",
    "\n",
    "        all_labels = torch.cat(all_labels, dim=0)\n",
    "        all_preds = torch.cat(all_preds, dim=0)\n",
    "        self.auc_scores = roc_auc_score(np.array(all_labels), np.array(all_preds), average=None)\n",
    "        print(f'AUC Score: {self.auc_scores:.4f}')\n",
    "\n",
    "        # Calculate confusion matrix\n",
    "        predicted_labels = (all_preds > 0.5).int()\n",
    "        cm = confusion_matrix(all_labels.numpy(), predicted_labels.numpy())\n",
    "        print(f'Confusion Matrix:\\n{cm}')\n",
    "\n",
    "        # Plot confusion matrix\n",
    "        plt.figure(figsize=(8, 6))\n",
    "        sns.heatmap(cm, annot=True, fmt=\"d\", cmap=\"Blues\", xticklabels=[\"Negative\", \"Positive\"], yticklabels=[\"Negative\", \"Positive\"])\n",
    "        plt.xlabel('Predicted Labels')\n",
    "        plt.ylabel('True Labels')\n",
    "        plt.title(f'Confusion Matrix\\nAUC Score: {self.auc_scores.mean():.4f}')\n",
    "        plt.show()\n",
    "\n",
    "        return loss_meter.avg, acc_meter.avg, self.auc_scores.mean()\n",
    "\n",
    "    def train(self):\n",
    "        for epoch in range(self.current_epoch, self.args.num_epochs):\n",
    "            self.current_epoch = epoch\n",
    "            val_loss, val_acc, val_auc = self.train_or_val('val')"
   ]
  },
  {
   "cell_type": "code",
   "execution_count": 36,
   "id": "d2500c64-dac6-4528-bd3a-32251515cc51",
   "metadata": {},
   "outputs": [],
   "source": [
    "dataloaders = get_dataloader( args )"
   ]
  },
  {
   "cell_type": "code",
   "execution_count": 37,
   "id": "5e5202c1-37b4-4633-9416-d06de42ba467",
   "metadata": {},
   "outputs": [],
   "source": [
    "trainer = Trainer(Logistic_model, \n",
    "                  globules_net , milia_net, negative_net, pigment_net, streaks_net,\n",
    "                  dataloaders, \n",
    "                  args,\n",
    "                 )"
   ]
  },
  {
   "cell_type": "code",
   "execution_count": 38,
   "id": "839bd16f-2d4e-44aa-9852-924cf329440c",
   "metadata": {},
   "outputs": [
    {
     "name": "stderr",
     "output_type": "stream",
     "text": [
      "/home/rs37890/.conda/envs/UDA/lib/python3.9/site-packages/torch/nn/modules/conv.py:456: UserWarning: Applied workaround for CuDNN issue, install nvrtc.so (Triggered internally at /opt/conda/conda-bld/pytorch_1712608885084/work/aten/src/ATen/native/cudnn/Conv_v8.cpp:84.)\n",
      "  return F.conv2d(input, weight, bias, self.stride,\n"
     ]
    },
    {
     "name": "stdout",
     "output_type": "stream",
     "text": [
      "VAL 0 5 8.295424191991993 0.8083333333333333 0 0.9510054588317871 2.1220879554748535\n",
      "VAL 1 5 7.90314931168969 0.8166666666666667 0 0.9399795532226562 2.028834342956543\n",
      "VAL 2 5 7.7640167190084375 0.8222222222222222 0 0.971107562383016 2.028798262278239\n",
      "VAL 3 5 8.397243775564267 0.8083333333333333 0 1.0166756510734558 2.0579135417938232\n",
      "VAL 4 5 8.779997821398876 0.7996146435452793 0 0.8824228286743164 1.7846075534820556\n",
      "AUC Score: 0.4335\n",
      "Confusion Matrix:\n",
      "[[415   0]\n",
      " [104   0]]\n"
     ]
    },
    {
     "data": {
      "image/png": "[encoded data removed]",
      "text/plain": [
       "<Figure size 800x600 with 2 Axes>"
      ]
     },
     "metadata": {},
     "output_type": "display_data"
    }
   ],
   "source": [
    "trainer.train()"
   ]
  },
  {
   "cell_type": "code",
   "execution_count": 39,
   "id": "0abf81a2-37df-461e-b421-ebb4c1221b1a",
   "metadata": {},
   "outputs": [
    {
     "data": {
      "text/plain": [
       "0.4334800741427247"
      ]
     },
     "execution_count": 39,
     "metadata": {},
     "output_type": "execute_result"
    }
   ],
   "source": [
    "trainer.auc_scores"
   ]
  },
  {
   "cell_type": "code",
   "execution_count": null,
   "id": "39ff5fcc-c7da-475a-be24-c9f412186dd9",
   "metadata": {},
   "outputs": [],
   "source": []
  }
 ],
 "metadata": {
  "kernelspec": {
   "display_name": "Python 3 (ipykernel)",
   "language": "python",
   "name": "python3"
  },
  "language_info": {
   "codemirror_mode": {
    "name": "ipython",
    "version": 3
   },
   "file_extension": ".py",
   "mimetype": "text/x-python",
   "name": "python",
   "nbconvert_exporter": "python",
   "pygments_lexer": "ipython3",
   "version": "3.9.19"
  }
 },
 "nbformat": 4,
 "nbformat_minor": 5
}
