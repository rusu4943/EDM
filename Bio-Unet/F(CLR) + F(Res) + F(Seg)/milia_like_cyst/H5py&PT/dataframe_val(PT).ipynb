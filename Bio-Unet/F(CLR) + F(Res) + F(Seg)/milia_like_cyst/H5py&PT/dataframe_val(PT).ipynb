{
 "cells": [
  {
   "cell_type": "code",
   "execution_count": 1,
   "id": "9ed0c9f9",
   "metadata": {},
   "outputs": [],
   "source": [
    "import pandas as pd\n",
    "import numpy as np\n",
    "import os\n",
    "import re\n",
    "from PIL import Image\n",
    "import h5py\n",
    "from sklearn.model_selection import train_test_split\n",
    "import argparse"
   ]
  },
  {
   "cell_type": "code",
   "execution_count": 2,
   "id": "71048875",
   "metadata": {},
   "outputs": [],
   "source": [
    "import copy\n",
    "import logging\n",
    "import torch\n",
    "import torch.nn as nn\n",
    "from torchvision import *\n",
    "import random\n",
    "import sys\n",
    "import time\n",
    "import cv2"
   ]
  },
  {
   "cell_type": "code",
   "execution_count": 3,
   "id": "8c5e8a5b",
   "metadata": {},
   "outputs": [],
   "source": [
    "img_size = 512\n",
    "img_size_2 = 512\n",
    "img_size_1 = 512\n",
    "out_size = 512 #324\n",
    "\n",
    "val_output_path = 'val.h5'\n",
    "\n",
    "#img_dir =  r'ISIC2018_Task1-2_Validation_Input/'\n",
    "#mask_dir = 'ISIC2018_Task2_Validation_GroundTruth/'\n",
    "img_dir =  r'ISIC2018_Task1-2_Training_Input/'\n",
    "mask_dir = 'ISIC2018_Task2_Training_GroundTruth_v3/'\n",
    "\n",
    "\n",
    "IMG_FILE_REGEX = r'ISIC_(\\d+).jpg'\n",
    "MASK_FILE_REGEX = r'ISIC_(\\d+)_attribute_(.*).png'\n",
    "\n",
    "ISIC2019_FILE_REGEX = r'ISIC_(\\d+).jpg'\n",
    "\n",
    "ATTR_TO_INDEX = {\n",
    "    'globules' : 0,\n",
    "    'milia_like_cyst' : 1,\n",
    "    'negative_network' : 2,\n",
    "    'pigment_network' : 3,\n",
    "    'streaks' : 4,\n",
    "}\n",
    "\n",
    "LAYERS_TO_INDEX = {\n",
    "    '40' : 0,\n",
    "    '41' : 1,\n",
    "    '42' : 2,\n",
    "    '50' : 3,\n",
    "    '51' : 4,\n",
    "    '52' : 5,\n",
    "    '60' : 6,\n",
    "    '61' : 7,\n",
    "    '62' : 8,\n",
    "    '70' : 9,\n",
    "    '71' : 10,\n",
    "    '72' : 11\n",
    "}"
   ]
  },
  {
   "cell_type": "code",
   "execution_count": 4,
   "id": "d804b443",
   "metadata": {},
   "outputs": [],
   "source": [
    "Back = '../../../../../594A/Dataset/ISIC challenge 2018 Task 1-2/'\n",
    "\n",
    "img_dir =  Back + img_dir\n",
    "mask_dir = Back + mask_dir"
   ]
  },
  {
   "cell_type": "markdown",
   "id": "e60f6b2e",
   "metadata": {},
   "source": [
    "#  ISIC2018 Val"
   ]
  },
  {
   "cell_type": "code",
   "execution_count": 5,
   "id": "8eac9c6f",
   "metadata": {},
   "outputs": [],
   "source": [
    "df_ISIC2018 = pd.DataFrame(columns=['image', 'globules', 'milia_like_cyst', \n",
    "                                    'negative_network', 'pigment_network', 'streaks'])"
   ]
  },
  {
   "cell_type": "code",
   "execution_count": 6,
   "id": "9f7b994f",
   "metadata": {},
   "outputs": [
    {
     "data": {
      "text/html": [
       "<div>\n",
       "<style scoped>\n",
       "    .dataframe tbody tr th:only-of-type {\n",
       "        vertical-align: middle;\n",
       "    }\n",
       "\n",
       "    .dataframe tbody tr th {\n",
       "        vertical-align: top;\n",
       "    }\n",
       "\n",
       "    .dataframe thead th {\n",
       "        text-align: right;\n",
       "    }\n",
       "</style>\n",
       "<table border=\"1\" class=\"dataframe\">\n",
       "  <thead>\n",
       "    <tr style=\"text-align: right;\">\n",
       "      <th></th>\n",
       "      <th>image</th>\n",
       "      <th>globules</th>\n",
       "      <th>milia_like_cyst</th>\n",
       "      <th>negative_network</th>\n",
       "      <th>pigment_network</th>\n",
       "      <th>streaks</th>\n",
       "    </tr>\n",
       "  </thead>\n",
       "  <tbody>\n",
       "  </tbody>\n",
       "</table>\n",
       "</div>"
      ],
      "text/plain": [
       "Empty DataFrame\n",
       "Columns: [image, globules, milia_like_cyst, negative_network, pigment_network, streaks]\n",
       "Index: []"
      ]
     },
     "execution_count": 6,
     "metadata": {},
     "output_type": "execute_result"
    }
   ],
   "source": [
    "df_ISIC2018.head()"
   ]
  },
  {
   "cell_type": "code",
   "execution_count": 7,
   "id": "0894ad32",
   "metadata": {},
   "outputs": [],
   "source": [
    "for img_file in os.listdir( img_dir ):\n",
    "    if not img_file.endswith('.jpg'): continue\n",
    "    img_id = str( re.search( IMG_FILE_REGEX, img_file ).group(1) )\n",
    "    img_name = 'ISIC_' + img_id\n",
    "    df_append = pd.DataFrame.from_records([{'image': img_name, 'globules': 2, 'milia_like_cyst': 2, \n",
    "                                      'negative_network': 2, 'pigment_network': 2, 'streaks': 2, 'pigment_network_pred': 2}])\n",
    "    \n",
    "    df_ISIC2018 = pd.concat([df_ISIC2018, df_append], ignore_index=True)"
   ]
  },
  {
   "cell_type": "markdown",
   "id": "2eb5417f",
   "metadata": {},
   "source": [
    "## 2. save binary input "
   ]
  },
  {
   "cell_type": "code",
   "execution_count": 8,
   "id": "3bb46e11",
   "metadata": {},
   "outputs": [
    {
     "data": {
      "text/plain": [
       "\"\\nfor mask_file in os.listdir( mask_dir ):\\n    if not mask_file.endswith('.png'): continue\\n    mask = Image.open( os.path.join( mask_dir, mask_file ) )\\n    mask = mask.resize( (img_size, img_size) )\\n    mask = np.array( mask )\\n    \\n    assert mask.shape == (img_size, img_size)\\n    assert mask.max() <= 255\\n    \\n    # decide feature exist or not\\n    if mask.max() > 0:\\n        binary_label = 1\\n    else:\\n        binary_label = 0\\n    \\n    m = re.search(MASK_FILE_REGEX, mask_file)\\n    \\n    file_idx = df_ISIC2018[df_ISIC2018['image'].str.contains(m.group(1))].index[0]\\n    \\n    if m.group(2) ==  'globules':\\n        df_ISIC2018.iloc[file_idx, df_ISIC2018.columns.get_loc('globules')] = binary_label\\n    elif m.group(2) ==  'milia_like_cyst':\\n        df_ISIC2018.iloc[file_idx, df_ISIC2018.columns.get_loc('milia_like_cyst')]  = binary_label\\n    elif m.group(2) ==  'negative_network':\\n        df_ISIC2018.iloc[file_idx, df_ISIC2018.columns.get_loc('negative_network')]  = binary_label\\n    elif m.group(2) ==  'pigment_network':\\n        df_ISIC2018.iloc[file_idx, df_ISIC2018.columns.get_loc('pigment_network')]  = binary_label\\n    elif m.group(2) ==  'streaks':\\n        df_ISIC2018.iloc[file_idx, df_ISIC2018.columns.get_loc('streaks')]  = binary_label\\n\""
      ]
     },
     "execution_count": 8,
     "metadata": {},
     "output_type": "execute_result"
    }
   ],
   "source": [
    "'''\n",
    "for mask_file in os.listdir( mask_dir ):\n",
    "    if not mask_file.endswith('.png'): continue\n",
    "    mask = Image.open( os.path.join( mask_dir, mask_file ) )\n",
    "    mask = mask.resize( (img_size, img_size) )\n",
    "    mask = np.array( mask )\n",
    "    \n",
    "    assert mask.shape == (img_size, img_size)\n",
    "    assert mask.max() <= 255\n",
    "    \n",
    "    # decide feature exist or not\n",
    "    if mask.max() > 0:\n",
    "        binary_label = 1\n",
    "    else:\n",
    "        binary_label = 0\n",
    "    \n",
    "    m = re.search(MASK_FILE_REGEX, mask_file)\n",
    "    \n",
    "    file_idx = df_ISIC2018[df_ISIC2018['image'].str.contains(m.group(1))].index[0]\n",
    "    \n",
    "    if m.group(2) ==  'globules':\n",
    "        df_ISIC2018.iloc[file_idx, df_ISIC2018.columns.get_loc('globules')] = binary_label\n",
    "    elif m.group(2) ==  'milia_like_cyst':\n",
    "        df_ISIC2018.iloc[file_idx, df_ISIC2018.columns.get_loc('milia_like_cyst')]  = binary_label\n",
    "    elif m.group(2) ==  'negative_network':\n",
    "        df_ISIC2018.iloc[file_idx, df_ISIC2018.columns.get_loc('negative_network')]  = binary_label\n",
    "    elif m.group(2) ==  'pigment_network':\n",
    "        df_ISIC2018.iloc[file_idx, df_ISIC2018.columns.get_loc('pigment_network')]  = binary_label\n",
    "    elif m.group(2) ==  'streaks':\n",
    "        df_ISIC2018.iloc[file_idx, df_ISIC2018.columns.get_loc('streaks')]  = binary_label\n",
    "'''"
   ]
  },
  {
   "cell_type": "code",
   "execution_count": 9,
   "id": "174eedf2",
   "metadata": {},
   "outputs": [],
   "source": [
    "#df_ISIC2018.to_csv('df_ISIC2018_val.csv', index=False)\n",
    "csv_path = '../../../../../Explainable-NN/Data/val_fold_1.csv'\n",
    "df_ISIC2018 = pd.read_csv(csv_path)"
   ]
  },
  {
   "cell_type": "code",
   "execution_count": 10,
   "id": "7a256d7f",
   "metadata": {},
   "outputs": [],
   "source": [
    "df = df_ISIC2018.loc[(df_ISIC2018.milia_like_cyst == 1)]"
   ]
  },
  {
   "cell_type": "code",
   "execution_count": 11,
   "id": "2dda7c02",
   "metadata": {},
   "outputs": [
    {
     "data": {
      "text/plain": [
       "123"
      ]
     },
     "execution_count": 11,
     "metadata": {},
     "output_type": "execute_result"
    }
   ],
   "source": [
    "len(df)"
   ]
  },
  {
   "cell_type": "markdown",
   "id": "3b9caf84",
   "metadata": {},
   "source": [
    "# h5py"
   ]
  },
  {
   "cell_type": "code",
   "execution_count": 12,
   "id": "e887144f",
   "metadata": {},
   "outputs": [],
   "source": [
    "images_path = []\n",
    "Masks_path = []\n",
    "\n",
    "for image_file in df['image']:\n",
    "    image_file_name = image_file + '.jpg'\n",
    "    images_path.append(img_dir + image_file_name)"
   ]
  },
  {
   "cell_type": "code",
   "execution_count": 13,
   "id": "fbc8d8ee",
   "metadata": {},
   "outputs": [],
   "source": [
    "#**************Transformer**************\n",
    "my_transformer = transforms.Compose([transforms.Resize((img_size,img_size)),transforms.ToTensor(),\n",
    "                                 transforms.Normalize((0.485, 0.456, 0.406),(0.229, 0.224, 0.225)) ])\n",
    "#**************End   Transformer**************"
   ]
  },
  {
   "cell_type": "code",
   "execution_count": 14,
   "id": "0b6bfd6f",
   "metadata": {},
   "outputs": [
    {
     "name": "stderr",
     "output_type": "stream",
     "text": [
      "/nas/home/ruitongs/.conda/envs/asdf/lib/python3.7/site-packages/ipykernel_launcher.py:6: UserWarning: To copy construct from a tensor, it is recommended to use sourceTensor.clone().detach() or sourceTensor.clone().detach().requires_grad_(True), rather than torch.tensor(sourceTensor).\n",
      "  \n"
     ]
    }
   ],
   "source": [
    "images = torch.zeros((len(images_path), 3, 512,512), dtype = torch.float64)\n",
    "for i in range(len(images_path)):\n",
    "    img_path = images_path[i]\n",
    "    img0 = Image.open(img_path) \n",
    "    img1 = my_transformer(img0)\n",
    "    img2 = torch.tensor(img1).float().cuda() # torch.Size([3, 512, 512])\n",
    "    img3 = img2.unsqueeze(0) # torch.Size([1, 3, 512, 512])\n",
    "\n",
    "    images[i] = img3\n",
    "\n",
    "\n",
    "torch.save(images, 'milia_like_cyst_images(val).pt')"
   ]
  },
  {
   "cell_type": "code",
   "execution_count": null,
   "id": "c0d4a6ec",
   "metadata": {},
   "outputs": [],
   "source": []
  }
 ],
 "metadata": {
  "kernelspec": {
   "display_name": "Python 3 (ipykernel)",
   "language": "python",
   "name": "python3"
  },
  "language_info": {
   "codemirror_mode": {
    "name": "ipython",
    "version": 3
   },
   "file_extension": ".py",
   "mimetype": "text/x-python",
   "name": "python",
   "nbconvert_exporter": "python",
   "pygments_lexer": "ipython3",
   "version": "3.7.13"
  }
 },
 "nbformat": 4,
 "nbformat_minor": 5
}
