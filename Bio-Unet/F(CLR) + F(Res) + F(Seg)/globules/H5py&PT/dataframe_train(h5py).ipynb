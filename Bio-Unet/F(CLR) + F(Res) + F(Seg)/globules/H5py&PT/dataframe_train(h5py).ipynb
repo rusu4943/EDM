{
 "cells": [
  {
   "cell_type": "code",
   "execution_count": null,
   "id": "9ed0c9f9",
   "metadata": {},
   "outputs": [],
   "source": [
    "import pandas as pd\n",
    "import numpy as np\n",
    "import os\n",
    "import re\n",
    "from PIL import Image\n",
    "import h5py\n",
    "from sklearn.model_selection import train_test_split\n",
    "import argparse"
   ]
  },
  {
   "cell_type": "code",
   "execution_count": null,
   "id": "71048875",
   "metadata": {},
   "outputs": [],
   "source": [
    "import copy\n",
    "import logging\n",
    "import torch\n",
    "import torch.nn as nn\n",
    "from torchvision import *\n",
    "import random\n",
    "import sys\n",
    "import time\n",
    "import cv2"
   ]
  },
  {
   "cell_type": "code",
   "execution_count": null,
   "id": "25d05c6d",
   "metadata": {},
   "outputs": [],
   "source": [
    "csv_path = '../../../../../Explainable-NN/Data/train_fold_1.csv'"
   ]
  },
  {
   "cell_type": "code",
   "execution_count": null,
   "id": "8c5e8a5b",
   "metadata": {},
   "outputs": [],
   "source": [
    "img_size = 512\n",
    "\n",
    "output_path = 'train.h5'\n",
    "img_dir =  r'ISIC2018_Task1-2_Training_Input/'\n",
    "mask_dir = 'ISIC2018_Task2_Training_GroundTruth_v3/'\n",
    "\n",
    "IMG_FILE_REGEX = r'ISIC_(\\d+).jpg'\n",
    "MASK_FILE_REGEX = r'ISIC_(\\d+)_attribute_(.*).png'\n",
    "\n",
    "ISIC2019_FILE_REGEX = r'ISIC_(\\d+).jpg'\n",
    "\n",
    "ATTR_TO_INDEX = {\n",
    "    'globules' : 0,\n",
    "    'milia_like_cyst' : 1,\n",
    "    'negative_network' : 2,\n",
    "    'pigment_network' : 3,\n",
    "    'streaks' : 4,\n",
    "}"
   ]
  },
  {
   "cell_type": "code",
   "execution_count": null,
   "id": "d804b443",
   "metadata": {},
   "outputs": [],
   "source": [
    "Back = '../../../../../594A/Dataset/ISIC challenge 2018 Task 1-2/'\n",
    "\n",
    "img_dir =  Back + img_dir\n",
    "mask_dir = Back + mask_dir"
   ]
  },
  {
   "cell_type": "markdown",
   "id": "e60f6b2e",
   "metadata": {},
   "source": [
    "#  ISIC2018 train"
   ]
  },
  {
   "cell_type": "code",
   "execution_count": null,
   "id": "8eac9c6f",
   "metadata": {},
   "outputs": [],
   "source": [
    "df_ISIC2018 = pd.DataFrame(columns=['image', 'globules', 'milia_like_cyst', \n",
    "                                    'negative_network', 'pigment_network', 'streaks'])"
   ]
  },
  {
   "cell_type": "code",
   "execution_count": null,
   "id": "9f7b994f",
   "metadata": {},
   "outputs": [],
   "source": [
    "df_ISIC2018.head()"
   ]
  },
  {
   "cell_type": "code",
   "execution_count": null,
   "id": "0894ad32",
   "metadata": {},
   "outputs": [],
   "source": [
    "for img_file in os.listdir( img_dir ):\n",
    "    if not img_file.endswith('.jpg'): continue\n",
    "    img_id = str( re.search( IMG_FILE_REGEX, img_file ).group(1) )\n",
    "    img_name = 'ISIC_' + img_id\n",
    "    df_append = pd.DataFrame.from_records([{'image': img_name, 'globules': 2, 'milia_like_cyst': 2, \n",
    "                                      'negative_network': 2, 'pigment_network': 2, 'streaks': 2, 'pigment_network_pred': 2}])\n",
    "    \n",
    "    df_ISIC2018 = pd.concat([df_ISIC2018, df_append], ignore_index=True)"
   ]
  },
  {
   "cell_type": "code",
   "execution_count": null,
   "id": "692fd939",
   "metadata": {},
   "outputs": [],
   "source": [
    "df_ISIC2018"
   ]
  },
  {
   "cell_type": "markdown",
   "id": "2eb5417f",
   "metadata": {},
   "source": [
    "## 2. save binary input "
   ]
  },
  {
   "cell_type": "code",
   "execution_count": null,
   "id": "3bb46e11",
   "metadata": {},
   "outputs": [],
   "source": [
    "'''\n",
    "for mask_file in os.listdir( mask_dir ):\n",
    "    if not mask_file.endswith('.png'): continue\n",
    "    mask = Image.open( os.path.join( mask_dir, mask_file ) )\n",
    "    mask = mask.resize( (img_size, img_size) )\n",
    "    mask = np.array( mask )\n",
    "    \n",
    "    assert mask.shape == (img_size, img_size)\n",
    "    assert mask.max() <= 255\n",
    "    \n",
    "    # decide feature exist or not\n",
    "    if mask.max() > 0:\n",
    "        binary_label = 1\n",
    "    else:\n",
    "        binary_label = 0\n",
    "    \n",
    "    m = re.search(MASK_FILE_REGEX, mask_file)\n",
    "    \n",
    "    file_idx = df_ISIC2018[df_ISIC2018['image'].str.contains(m.group(1))].index[0]\n",
    "    \n",
    "    if m.group(2) ==  'globules':\n",
    "        df_ISIC2018.iloc[file_idx, df_ISIC2018.columns.get_loc('globules')] = binary_label\n",
    "    elif m.group(2) ==  'milia_like_cyst':\n",
    "        df_ISIC2018.iloc[file_idx, df_ISIC2018.columns.get_loc('milia_like_cyst')]  = binary_label\n",
    "    elif m.group(2) ==  'negative_network':\n",
    "        df_ISIC2018.iloc[file_idx, df_ISIC2018.columns.get_loc('negative_network')]  = binary_label\n",
    "    elif m.group(2) ==  'pigment_network':\n",
    "        df_ISIC2018.iloc[file_idx, df_ISIC2018.columns.get_loc('pigment_network')]  = binary_label\n",
    "    elif m.group(2) ==  'streaks':\n",
    "        df_ISIC2018.iloc[file_idx, df_ISIC2018.columns.get_loc('streaks')]  = binary_label\n",
    "'''"
   ]
  },
  {
   "cell_type": "code",
   "execution_count": null,
   "id": "174eedf2",
   "metadata": {},
   "outputs": [],
   "source": [
    "#df_ISIC2018.to_csv('df_ISIC2018_val.csv', index=False)\n",
    "df_ISIC2018 = pd.read_csv(csv_path)"
   ]
  },
  {
   "cell_type": "code",
   "execution_count": null,
   "id": "9400d461",
   "metadata": {},
   "outputs": [],
   "source": [
    "#df = df_ISIC2018.loc[(df_ISIC2018.pigment_network == 0) & (df_ISIC2018.globules == 0)\n",
    "#                    & (df_ISIC2018.milia_like_cyst == 0) & (df_ISIC2018.negative_network == 1) & (df_ISIC2018.streaks == 0)]"
   ]
  },
  {
   "cell_type": "markdown",
   "id": "3b9caf84",
   "metadata": {},
   "source": [
    "# Train.h5py"
   ]
  },
  {
   "cell_type": "code",
   "execution_count": null,
   "id": "0b6bfd6f",
   "metadata": {
    "scrolled": true
   },
   "outputs": [],
   "source": [
    "with h5py.File(output_path, \"w\") as f:\n",
    "    count = len(df_ISIC2018)\n",
    "\n",
    "    # store imgs to h5 file\n",
    "    images = f.create_dataset( 'images', (count, 3, img_size, img_size), dtype=np.uint8 )\n",
    "    image_ids = f.create_dataset( 'image_ids', (count,), dtype=int )\n",
    "    img_id_to_h5idx = {}\n",
    "    i = 0\n",
    "    for idx in range(len(df_ISIC2018)):\n",
    "        print( f'Processing image {i+1}/{count}' )\n",
    "        img_file = df_ISIC2018.iloc[idx].image + '.jpg'\n",
    "        img = Image.open( os.path.join( img_dir, img_file ) )\n",
    "        img = img.resize( (img_size, img_size) )\n",
    "        img = np.array( img )\n",
    "        img = img.transpose(2, 0, 1)\n",
    "        #(3,512,1024)\n",
    "        assert img.shape == (3, img_size, img_size)\n",
    "        assert img.max() <= 255\n",
    "        images[i] = img\n",
    "        img_id = int( re.search( IMG_FILE_REGEX, img_file ).group(1) )\n",
    "        image_ids[i] = img_id\n",
    "        img_id_to_h5idx[ img_id ] = i\n",
    "        i += 1\n",
    "        \n",
    "    # store masks to h5 file\n",
    "    i = 0\n",
    "    masks = f.create_dataset('masks', (count, 5, img_size, img_size), dtype=np.uint8)\n",
    "    attr_labels = f.create_dataset('labels', (count, 5), dtype=np.uint8)\n",
    "    for mask_file in os.listdir( mask_dir ):\n",
    "        if not mask_file.endswith('.png'): continue\n",
    "        print( f'Processing mask {i+1}/{5*count}' )\n",
    "        mask = Image.open( os.path.join( mask_dir, mask_file ) )\n",
    "        mask = mask.resize( (img_size, img_size) )\n",
    "        mask = np.array( mask )\n",
    "        assert mask.shape == (img_size, img_size)\n",
    "        assert mask.max() <= 255\n",
    "        m = re.search(MASK_FILE_REGEX, mask_file)\n",
    "        img_id, attr_id = int(m.group(1)), ATTR_TO_INDEX[ m.group(2) ]\n",
    "        \n",
    "        \n",
    "        h5idx = img_id_to_h5idx[ img_id ]\n",
    "        masks[ h5idx, attr_id ] = mask \n",
    "        if mask.max() > 0:\n",
    "            attr_labels[h5idx, attr_id] = 1\n",
    "        i += 1      "
   ]
  },
  {
   "cell_type": "code",
   "execution_count": null,
   "id": "c0d4a6ec",
   "metadata": {},
   "outputs": [],
   "source": []
  }
 ],
 "metadata": {
  "kernelspec": {
   "display_name": "Python 3 (ipykernel)",
   "language": "python",
   "name": "python3"
  },
  "language_info": {
   "codemirror_mode": {
    "name": "ipython",
    "version": 3
   },
   "file_extension": ".py",
   "mimetype": "text/x-python",
   "name": "python",
   "nbconvert_exporter": "python",
   "pygments_lexer": "ipython3",
   "version": "3.7.13"
  }
 },
 "nbformat": 4,
 "nbformat_minor": 5
}
